{
  "nbformat": 4,
  "nbformat_minor": 0,
  "metadata": {
    "colab": {
      "name": "testNN.ipynb",
      "version": "0.3.2",
      "provenance": [],
      "include_colab_link": true
    },
    "kernelspec": {
      "name": "python3",
      "display_name": "Python 3"
    }
  },
  "cells": [
    {
      "cell_type": "markdown",
      "metadata": {
        "id": "view-in-github",
        "colab_type": "text"
      },
      "source": [
        "<a href=\"https://colab.research.google.com/github/vbloise3/deepLearning/blob/master/testNN.ipynb\" target=\"_parent\"><img src=\"https://colab.research.google.com/assets/colab-badge.svg\" alt=\"Open In Colab\"/></a>"
      ]
    },
    {
      "cell_type": "code",
      "metadata": {
        "id": "xn9MYCCs1EU-",
        "colab_type": "code",
        "outputId": "1efcf1b7-5fa6-4d6d-87d6-6d1bd7e7671c",
        "colab": {
          "base_uri": "https://localhost:8080/",
          "height": 255
        }
      },
      "source": [
        "import numpy as np\n",
        "\n",
        "x = np.array([[[5, 78, 2, 34, 0, 8],\n",
        " [6, 79, 3, 35, 1, 7],\n",
        " [7, 80, 4, 36, 2, 6]],\n",
        " [[5, 78, 2, 34, 0, 5],\n",
        " [6, 79, 3, 35, 1, 4],\n",
        " [7, 80, 4, 36, 2, 3]],\n",
        " [[5, 78, 2, 34, 0, 2],\n",
        " [6, 79, 3, 35, 1, 1],\n",
        " [7, 80, 4, 36, 2, 0]]])\n",
        "print(f\"x: {x}\")\n",
        "print(f\"x dimension: {x.ndim}\")\n",
        "print(f\"x shape: {x.shape}\")\n",
        "print(f\"x type: {x.dtype}\")\n",
        "\n",
        "users = [\n",
        "    { \"id\": 0, \"name\": \"Hero\" },\n",
        "    { \"id\": 1, \"name\": \"Dunn\" },\n",
        "    { \"id\": 2, \"name\": \"Sue\" },\n",
        "    { \"id\": 3, \"name\": \"Chi\" },\n",
        "    { \"id\": 4, \"name\": \"Thor\" },\n",
        "    { \"id\": 5, \"name\": \"Clive\" },\n",
        "    { \"id\": 6, \"name\": \"Hicks\" },\n",
        "    { \"id\": 7, \"name\": \"Devin\" },\n",
        "    { \"id\": 8, \"name\": \"Kate\" },\n",
        "    { \"id\": 9, \"name\": \"Klein\" }\n",
        "]\n",
        "friendship_pairs = [(0, 1), (0, 2), (1, 2), (1, 3), (2, 3), (3, 4), (4, 5), \n",
        "                    (5, 6), (5, 7), (6, 8), (7, 8), (8, 9)]\n"
      ],
      "execution_count": 1,
      "outputs": [
        {
          "output_type": "stream",
          "text": [
            "x: [[[ 5 78  2 34  0  8]\n",
            "  [ 6 79  3 35  1  7]\n",
            "  [ 7 80  4 36  2  6]]\n",
            "\n",
            " [[ 5 78  2 34  0  5]\n",
            "  [ 6 79  3 35  1  4]\n",
            "  [ 7 80  4 36  2  3]]\n",
            "\n",
            " [[ 5 78  2 34  0  2]\n",
            "  [ 6 79  3 35  1  1]\n",
            "  [ 7 80  4 36  2  0]]]\n",
            "x dimension: 3\n",
            "x shape: (3, 3, 6)\n",
            "x type: int64\n"
          ],
          "name": "stdout"
        }
      ]
    }
  ]
}