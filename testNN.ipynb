{
  "nbformat": 4,
  "nbformat_minor": 0,
  "metadata": {
    "colab": {
      "name": "testNN.ipynb",
      "version": "0.3.2",
      "provenance": [],
      "include_colab_link": true
    },
    "kernelspec": {
      "name": "python3",
      "display_name": "Python 3"
    }
  },
  "cells": [
    {
      "cell_type": "markdown",
      "metadata": {
        "id": "view-in-github",
        "colab_type": "text"
      },
      "source": [
        "<a href=\"https://colab.research.google.com/github/vbloise3/deepLearning/blob/master/testNN.ipynb\" target=\"_parent\"><img src=\"https://colab.research.google.com/assets/colab-badge.svg\" alt=\"Open In Colab\"/></a>"
      ]
    },
    {
      "cell_type": "code",
      "metadata": {
        "id": "xn9MYCCs1EU-",
        "colab_type": "code",
        "colab": {
          "base_uri": "https://localhost:8080/",
          "height": 255
        },
        "outputId": "cf3ece76-1b2d-4b1c-a0ff-2e0e4e01ae80"
      },
      "source": [
        "import numpy as np\n",
        "\n",
        "x = np.array([[[5, 78, 2, 34, 0, 8],\n",
        " [6, 79, 3, 35, 1, 7],\n",
        " [7, 80, 4, 36, 2, 6]],\n",
        " [[5, 78, 2, 34, 0, 5],\n",
        " [6, 79, 3, 35, 1, 4],\n",
        " [7, 80, 4, 36, 2, 3]],\n",
        " [[5, 78, 2, 34, 0, 2],\n",
        " [6, 79, 3, 35, 1, 1],\n",
        " [7, 80, 4, 36, 2, 0]]])\n",
        "print(f\"x: {x}\")\n",
        "print(f\"x dimension: {x.ndim}\")\n",
        "print(f\"x shape: {x.shape}\")\n",
        "print(f\"x type: {x.dtype}\")"
      ],
      "execution_count": 14,
      "outputs": [
        {
          "output_type": "stream",
          "text": [
            "x: [[[ 5 78  2 34  0  8]\n",
            "  [ 6 79  3 35  1  7]\n",
            "  [ 7 80  4 36  2  6]]\n",
            "\n",
            " [[ 5 78  2 34  0  5]\n",
            "  [ 6 79  3 35  1  4]\n",
            "  [ 7 80  4 36  2  3]]\n",
            "\n",
            " [[ 5 78  2 34  0  2]\n",
            "  [ 6 79  3 35  1  1]\n",
            "  [ 7 80  4 36  2  0]]]\n",
            "x dimension: 3\n",
            "x shape: (3, 3, 6)\n",
            "x type: int64\n"
          ],
          "name": "stdout"
        }
      ]
    }
  ]
}