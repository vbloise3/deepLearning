{
  "nbformat": 4,
  "nbformat_minor": 0,
  "metadata": {
    "colab": {
      "name": "testNN.ipynb",
      "version": "0.3.2",
      "provenance": [],
      "include_colab_link": true
    },
    "kernelspec": {
      "name": "python3",
      "display_name": "Python 3"
    }
  },
  "cells": [
    {
      "cell_type": "markdown",
      "metadata": {
        "id": "view-in-github",
        "colab_type": "text"
      },
      "source": [
        "<a href=\"https://colab.research.google.com/github/vbloise3/deepLearning/blob/master/testNN.ipynb\" target=\"_parent\"><img src=\"https://colab.research.google.com/assets/colab-badge.svg\" alt=\"Open In Colab\"/></a>"
      ]
    },
    {
      "cell_type": "code",
      "metadata": {
        "id": "xn9MYCCs1EU-",
        "colab_type": "code",
        "outputId": "d0168937-db76-4472-d8bd-3dc0c759b626",
        "colab": {
          "base_uri": "https://localhost:8080/",
          "height": 272
        }
      },
      "source": [
        "import numpy as np\n",
        "\n",
        "x = np.array([[[5, 78, 2, 34, 0, 8],\n",
        " [6, 79, 3, 35, 1, 7],\n",
        " [7, 80, 4, 36, 2, 6]],\n",
        " [[5, 78, 2, 34, 0, 5],\n",
        " [6, 79, 3, 35, 1, 4],\n",
        " [7, 80, 4, 36, 2, 3]],\n",
        " [[5, 78, 2, 34, 0, 2],\n",
        " [6, 79, 3, 35, 1, 1],\n",
        " [7, 80, 4, 36, 2, 0]]])\n",
        "print(f\"x: {x}\")\n",
        "print(f\"x dimension: {x.ndim}\")\n",
        "print(f\"x shape: {x.shape}\")\n",
        "print(f\"x type: {x.dtype}\")\n",
        "\n",
        "\n",
        "# First example from Data Science From Scratch book\n",
        "users = [\n",
        "    { \"id\": 0, \"name\": \"Hero\" },\n",
        "    { \"id\": 1, \"name\": \"Dunn\" },\n",
        "    { \"id\": 2, \"name\": \"Sue\" },\n",
        "    { \"id\": 3, \"name\": \"Chi\" },\n",
        "    { \"id\": 4, \"name\": \"Thor\" },\n",
        "    { \"id\": 5, \"name\": \"Clive\" },\n",
        "    { \"id\": 6, \"name\": \"Hicks\" },\n",
        "    { \"id\": 7, \"name\": \"Devin\" },\n",
        "    { \"id\": 8, \"name\": \"Kate\" },\n",
        "    { \"id\": 9, \"name\": \"Klein\" }\n",
        "]\n",
        "friendship_pairs = [(0, 1), (0, 2), (1, 2), (1, 3), (2, 3), (3, 4), (4, 5), \n",
        "                    (5, 6), (5, 7), (6, 8), (7, 8), (8, 9)]\n",
        "# Initialize the dict with an empty list for each user id\n",
        "friendships = {user[\"id\"]: [] for user in users}\n",
        "\n",
        "# Add loop over the friendship pairs to populate it\n",
        "for i, j in friendship_pairs:\n",
        "  friendships[i].append(j) # Add j as a friend of user i\n",
        "  friendships[j].append(i) # Add i as a friend of user j\n",
        "  \n",
        "def number_of_friends(user):\n",
        "  \"\"\"How many friends does user have?\"\"\"\n",
        "  user_id = user[\"id\"]\n",
        "  friend_ids = friendships[user_id]\n",
        "  return len(friend_ids)\n",
        "\n",
        "total_connections = sum(number_of_friends(user) for user in users)\n",
        "\n",
        "print(f\"number of connections: {total_connections}\")"
      ],
      "execution_count": 4,
      "outputs": [
        {
          "output_type": "stream",
          "text": [
            "x: [[[ 5 78  2 34  0  8]\n",
            "  [ 6 79  3 35  1  7]\n",
            "  [ 7 80  4 36  2  6]]\n",
            "\n",
            " [[ 5 78  2 34  0  5]\n",
            "  [ 6 79  3 35  1  4]\n",
            "  [ 7 80  4 36  2  3]]\n",
            "\n",
            " [[ 5 78  2 34  0  2]\n",
            "  [ 6 79  3 35  1  1]\n",
            "  [ 7 80  4 36  2  0]]]\n",
            "x dimension: 3\n",
            "x shape: (3, 3, 6)\n",
            "x type: int64\n",
            "number of connections: 24\n"
          ],
          "name": "stdout"
        }
      ]
    },
    {
      "cell_type": "code",
      "metadata": {
        "id": "K92VxZxxKu6I",
        "colab_type": "code",
        "colab": {}
      },
      "source": [
        ""
      ],
      "execution_count": 0,
      "outputs": []
    }
  ]
}