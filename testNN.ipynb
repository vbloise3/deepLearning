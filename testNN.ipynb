{
  "nbformat": 4,
  "nbformat_minor": 0,
  "metadata": {
    "colab": {
      "name": "testNN.ipynb",
      "version": "0.3.2",
      "provenance": [],
      "include_colab_link": true
    },
    "kernelspec": {
      "name": "python3",
      "display_name": "Python 3"
    }
  },
  "cells": [
    {
      "cell_type": "markdown",
      "metadata": {
        "id": "view-in-github",
        "colab_type": "text"
      },
      "source": [
        "<a href=\"https://colab.research.google.com/github/vbloise3/deepLearning/blob/master/testNN.ipynb\" target=\"_parent\"><img src=\"https://colab.research.google.com/assets/colab-badge.svg\" alt=\"Open In Colab\"/></a>"
      ]
    },
    {
      "cell_type": "code",
      "metadata": {
        "id": "xn9MYCCs1EU-",
        "colab_type": "code",
        "outputId": "632e8e6f-396b-4f60-8da6-034cbe492366",
        "colab": {
          "base_uri": "https://localhost:8080/",
          "height": 578
        }
      },
      "source": [
        "import numpy as np\n",
        "from collections import Counter\n",
        "\n",
        "x = np.array([[[5, 78, 2, 34, 0, 8],\n",
        " [6, 79, 3, 35, 1, 7],\n",
        " [7, 80, 4, 36, 2, 6]],\n",
        " [[5, 78, 2, 34, 0, 5],\n",
        " [6, 79, 3, 35, 1, 4],\n",
        " [7, 80, 4, 36, 2, 3]],\n",
        " [[5, 78, 2, 34, 0, 2],\n",
        " [6, 79, 3, 35, 1, 1],\n",
        " [7, 80, 4, 36, 2, 0]]])\n",
        "print(f\"x: {x}\")\n",
        "print(f\"x dimension: {x.ndim}\")\n",
        "print(f\"x shape: {x.shape}\")\n",
        "print(f\"x type: {x.dtype}\")\n",
        "\n",
        "\n",
        "# First example from Data Science From Scratch book\n",
        "users = [\n",
        "    { \"id\": 0, \"name\": \"Hero\" },\n",
        "    { \"id\": 1, \"name\": \"Dunn\" },\n",
        "    { \"id\": 2, \"name\": \"Sue\" },\n",
        "    { \"id\": 3, \"name\": \"Chi\" },\n",
        "    { \"id\": 4, \"name\": \"Thor\" },\n",
        "    { \"id\": 5, \"name\": \"Clive\" },\n",
        "    { \"id\": 6, \"name\": \"Hicks\" },\n",
        "    { \"id\": 7, \"name\": \"Devin\" },\n",
        "    { \"id\": 8, \"name\": \"Kate\" },\n",
        "    { \"id\": 9, \"name\": \"Klein\" }\n",
        "]\n",
        "friendship_pairs = [(0, 1), (0, 2), (1, 2), (1, 3), (2, 3), (3, 4), (4, 5), \n",
        "                    (5, 6), (5, 7), (6, 8), (7, 8), (8, 9)]\n",
        "# Initialize the dict with an empty list for each user id\n",
        "friendships = {user[\"id\"]: [] for user in users}\n",
        "print(f\"\\nfriendships after empty init: {friendships}\\n\")\n",
        "\n",
        "# Add loop over the friendship pairs to populate it\n",
        "for i, j in friendship_pairs:\n",
        "  friendships[i].append(j) # Add j as a friend of user i\n",
        "  friendships[j].append(i) # Add i as a friend of user j\n",
        "  \n",
        "print(f\"\\nfriendships after data load in for i, j loop: {friendships}\\n\")\n",
        "  \n",
        "def number_of_friends(user):\n",
        "  \"\"\"How many friends does user have?\"\"\"\n",
        "  user_id = user[\"id\"]\n",
        "  friend_ids = friendships[user_id]\n",
        "  return len(friend_ids)\n",
        "\n",
        "def friends_of_friends(user):\n",
        "  user_id = user[\"id\"]\n",
        "  return Counter(foaf_id for friend_id in friendships[user_id] # for each of my friends,\n",
        "                 for foaf_id in friendships[friend_id] # find their friends\n",
        "                     if foaf_id != user_id # who aren't me\n",
        "                     and foaf_id not in friendships[user_id] # and aren't my friends\n",
        "                )\n",
        "\n",
        "\n",
        "total_connections = sum(number_of_friends(user) for user in users)\n",
        "\n",
        "print(f\"friends of 1: {friendships[1]}\\n\")\n",
        "\n",
        "print(f\"number of friends of 4: {number_of_friends(users[4])}\\n\")\n",
        "\n",
        "print(f\"number of connections: {total_connections}\")\n",
        "num_users = len(users)\n",
        "# length of the users list\n",
        "avg_connections = total_connections / num_users \n",
        "print(f\"average connections: {avg_connections}\\n\")\n",
        "\n",
        "# sort the friends by number of connections\n",
        "# Create a list (user_id, number_of_friends)\n",
        "num_friends_by_id = [(user[\"id\"], number_of_friends(user)) for user in users]\n",
        "print(f\"number of friends by id: {num_friends_by_id}\\n\")\n",
        "print(f\"sorted by connections: {num_friends_by_id.sort(key=lambda id_and_friends: id_and_friends[1], reverse=True)}\\n\")\n",
        "# largest to smallest\n",
        "\n",
        "print(f\"friends of friends of user 3: {friends_of_friends(users[3])}\\n\")\n",
        "\n"
      ],
      "execution_count": 0,
      "outputs": [
        {
          "output_type": "stream",
          "text": [
            "x: [[[ 5 78  2 34  0  8]\n",
            "  [ 6 79  3 35  1  7]\n",
            "  [ 7 80  4 36  2  6]]\n",
            "\n",
            " [[ 5 78  2 34  0  5]\n",
            "  [ 6 79  3 35  1  4]\n",
            "  [ 7 80  4 36  2  3]]\n",
            "\n",
            " [[ 5 78  2 34  0  2]\n",
            "  [ 6 79  3 35  1  1]\n",
            "  [ 7 80  4 36  2  0]]]\n",
            "x dimension: 3\n",
            "x shape: (3, 3, 6)\n",
            "x type: int64\n",
            "\n",
            "friendships after empty init: {0: [], 1: [], 2: [], 3: [], 4: [], 5: [], 6: [], 7: [], 8: [], 9: []}\n",
            "\n",
            "\n",
            "friendships after data load in for i, j loop: {0: [1, 2], 1: [0, 2, 3], 2: [0, 1, 3], 3: [1, 2, 4], 4: [3, 5], 5: [4, 6, 7], 6: [5, 8], 7: [5, 8], 8: [6, 7, 9], 9: [8]}\n",
            "\n",
            "friends of 1: [0, 2, 3]\n",
            "\n",
            "number of friends of 4: 2\n",
            "\n",
            "number of connections: 24\n",
            "average connections: 2.4\n",
            "\n",
            "number of friends by id: [(0, 2), (1, 3), (2, 3), (3, 3), (4, 2), (5, 3), (6, 2), (7, 2), (8, 3), (9, 1)]\n",
            "\n",
            "sorted by connections: None\n",
            "\n",
            "friends of friends of user 3: Counter({0: 2, 5: 1})\n",
            "\n"
          ],
          "name": "stdout"
        }
      ]
    },
    {
      "cell_type": "code",
      "metadata": {
        "id": "K92VxZxxKu6I",
        "colab_type": "code",
        "colab": {
          "base_uri": "https://localhost:8080/",
          "height": 122
        },
        "outputId": "a7333dc3-23ea-4d04-aa30-ed0daf69f708"
      },
      "source": [
        "from google.colab import drive\n",
        "drive.mount('/content/gdrive')\n"
      ],
      "execution_count": 1,
      "outputs": [
        {
          "output_type": "stream",
          "text": [
            "Go to this URL in a browser: https://accounts.google.com/o/oauth2/auth?client_id=947318989803-6bn6qk8qdgf4n4g3pfee6491hc0brc4i.apps.googleusercontent.com&redirect_uri=urn%3Aietf%3Awg%3Aoauth%3A2.0%3Aoob&scope=email%20https%3A%2F%2Fwww.googleapis.com%2Fauth%2Fdocs.test%20https%3A%2F%2Fwww.googleapis.com%2Fauth%2Fdrive%20https%3A%2F%2Fwww.googleapis.com%2Fauth%2Fdrive.photos.readonly%20https%3A%2F%2Fwww.googleapis.com%2Fauth%2Fpeopleapi.readonly&response_type=code\n",
            "\n",
            "Enter your authorization code:\n",
            "··········\n",
            "Mounted at /content/gdrive\n"
          ],
          "name": "stdout"
        }
      ]
    }
  ]
}