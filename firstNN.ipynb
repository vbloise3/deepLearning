{
  "nbformat": 4,
  "nbformat_minor": 0,
  "metadata": {
    "colab": {
      "name": "firstNN.ipynb",
      "version": "0.3.2",
      "provenance": [],
      "collapsed_sections": [],
      "include_colab_link": true
    },
    "kernelspec": {
      "name": "python3",
      "display_name": "Python 3"
    }
  },
  "cells": [
    {
      "cell_type": "markdown",
      "metadata": {
        "id": "view-in-github",
        "colab_type": "text"
      },
      "source": [
        "<a href=\"https://colab.research.google.com/github/vbloise3/deepLearning/blob/master/firstNN.ipynb\" target=\"_parent\"><img src=\"https://colab.research.google.com/assets/colab-badge.svg\" alt=\"Open In Colab\"/></a>"
      ]
    },
    {
      "cell_type": "code",
      "metadata": {
        "id": "_6Z2jo23gjQT",
        "colab_type": "code",
        "outputId": "d0392528-16f0-4125-d429-78cf5a8c0102",
        "colab": {
          "base_uri": "https://localhost:8080/",
          "height": 643
        }
      },
      "source": [
        "# https://stackoverflow.com/questions/48376580/google-colab-how-to-read-data-from-my-google-drive\n",
        "# data folder id 10iFjVs7hZokOYB03-jKS_YoWSU7g182h\n",
        "\n",
        "!pip install -U -q PyDrive\n",
        "from keras.datasets import mnist\n",
        "from keras import models \n",
        "from keras import layers\n",
        "from keras.utils import to_categorical\n",
        "import matplotlib.pyplot as plt\n",
        "import numpy as np\n",
        "import os\n",
        "from pydrive.auth import GoogleAuth\n",
        "from pydrive.drive import GoogleDrive\n",
        "from google.colab import auth\n",
        "from oauth2client.client import GoogleCredentials\n",
        "\n",
        "# ############ setup data folder for loading data for tensors ###########\n",
        "from google.colab import drive\n",
        "\n",
        "drive.mount('/content/gdrive')\n",
        "!ls \"/content/gdrive/My Drive\"\n",
        "\n",
        "with open('/content/gdrive/My Drive/data/data.txt', 'w') as f:\n",
        "   f.write('values, again!! and again!! and again!!')\n",
        "with open('/content/gdrive/My Drive/data/data.txt', 'r') as fr:\n",
        "   fileContents = fr.read()\n",
        "print(f\"file contents: {fileContents}\")\n",
        "# ############ end of setup data folder for loading data for tensors ###########\n",
        "\n",
        "def valid_imshow_data(data):\n",
        "    data = np.asarray(data)\n",
        "    if data.ndim == 2:\n",
        "        return True\n",
        "    elif data.ndim == 3:\n",
        "        if 3 <= data.shape[2] <= 4:\n",
        "            return True\n",
        "        else:\n",
        "            print('The \"data\" has 3 dimensions but the last dimension '\n",
        "                  'must have a length of 3 (RGB) or 4 (RGBA), not \"{}\".'\n",
        "                  ''.format(data.shape[2]))\n",
        "            return False\n",
        "    else:\n",
        "        print('To visualize an image the data must be 2 dimensional or '\n",
        "              '3 dimensional, not \"{}\".'\n",
        "              ''.format(data.ndim))\n",
        "        return False\n",
        "      \n",
        "\n",
        "(train_images, train_labels), (test_images, test_labels) = mnist.load_data()\n",
        "print(f\"train_images shape: {train_images.shape}\") \n",
        "print(f\"train_labels count: {len(train_labels)}\")\n",
        "print(f\"train_labels: {train_labels}\")\n",
        "\n",
        "# Visualize one of the train images\n",
        "digit = train_images[4]\n",
        "valid_imshow_data(digit)\n",
        "plt.imshow(digit, cmap=plt.cm.binary) \n",
        "plt.show()\n",
        "\n",
        "# Take a slice of the train_images tensor\n",
        "my_slice = train_images[10:100]\n",
        "print(f\"a slice of the train_images tensor: {my_slice.shape}\") \n",
        "\n",
        "network = models.Sequential()\n",
        "network.add(layers.Dense(512, activation='relu', input_shape=(28 * 28,))) \n",
        "network.add(layers.Dense(10, activation='softmax'))\n",
        "\n",
        "network.compile(optimizer='rmsprop',\n",
        "                loss='categorical_crossentropy', \n",
        "                metrics=['accuracy'])\n",
        "\n",
        "train_images = train_images.reshape((60000, 28 * 28)) \n",
        "train_images = train_images.astype('float32') / 255\n",
        "\n",
        "test_images = test_images.reshape((10000, 28 * 28)) \n",
        "test_images = test_images.astype('float32') / 255\n",
        "\n",
        "train_labels = to_categorical(train_labels) \n",
        "test_labels = to_categorical(test_labels)\n",
        "\n",
        "# Train the network\n",
        "#network.fit(train_images, train_labels, epochs=5, batch_size=128)\n",
        "\n",
        "# Test the trained network\n",
        "test_loss, test_acc = network.evaluate(test_images, test_labels)\n",
        "print('test_acc:', test_acc) \n",
        "\n"
      ],
      "execution_count": 22,
      "outputs": [
        {
          "output_type": "stream",
          "text": [
            "Drive already mounted at /content/gdrive; to attempt to forcibly remount, call drive.mount(\"/content/gdrive\", force_remount=True).\n",
            "'395494_GUL_Req to End Coverage_GL.2002.102_rF.pdf'\n",
            "'AWS re:Invent 2017 Registration Confirmation.pdf'\n",
            "'AWS re:Invent Hotel Confirmation.pdf'\n",
            "'Colab Notebooks'\n",
            "'Daily Notes - Aug 30, 2017.pdf'\n",
            " data\n",
            " data.txt\n",
            "'Itinerary - AWS re:Invent - 2017.pdf'\n",
            "\"Mom's Hospital Rehabilitation Event.gsheet\"\n",
            "'My Saved Places.gmap'\n",
            " ScannerPro\n",
            "'Ticketed Invoice - re:Invent - 2017.pdf'\n",
            "'Vince Bloise Resume - 2017.docx'\n",
            "'Vince Bloise Resume - 2018 c1.pdf'\n",
            "file contents: values, again!! and again!! and again!!\n",
            "train_images shape: (60000, 28, 28)\n",
            "train_labels count: 60000\n",
            "train_labels: [5 0 4 ... 5 6 8]\n"
          ],
          "name": "stdout"
        },
        {
          "output_type": "display_data",
          "data": {
            "image/png": "[encoded data removed]",
            "text/plain": [
              "<Figure size 432x288 with 1 Axes>"
            ]
          },
          "metadata": {
            "tags": []
          }
        },
        {
          "output_type": "stream",
          "text": [
            "a slice of the train_images tensor: (90, 28, 28)\n",
            "10000/10000 [==============================] - 1s 68us/step\n",
            "test_acc: 0.1223\n"
          ],
          "name": "stdout"
        }
      ]
    }
  ]
}