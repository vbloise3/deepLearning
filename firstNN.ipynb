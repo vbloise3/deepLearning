{
  "nbformat": 4,
  "nbformat_minor": 0,
  "metadata": {
    "colab": {
      "name": "firstNN.ipynb",
      "version": "0.3.2",
      "provenance": [],
      "include_colab_link": true
    },
    "kernelspec": {
      "name": "python3",
      "display_name": "Python 3"
    }
  },
  "cells": [
    {
      "cell_type": "markdown",
      "metadata": {
        "id": "view-in-github",
        "colab_type": "text"
      },
      "source": [
        "<a href=\"https://colab.research.google.com/github/vbloise3/deepLearning/blob/master/firstNN.ipynb\" target=\"_parent\"><img src=\"https://colab.research.google.com/assets/colab-badge.svg\" alt=\"Open In Colab\"/></a>"
      ]
    },
    {
      "cell_type": "code",
      "metadata": {
        "id": "_6Z2jo23gjQT",
        "colab_type": "code",
        "colab": {
          "base_uri": "https://localhost:8080/",
          "height": 272
        },
        "outputId": "cb5cc721-9953-41e8-d987-ca072e71ee69"
      },
      "source": [
        "from keras.datasets import mnist\n",
        "from keras import models \n",
        "from keras import layers\n",
        "from keras.utils import to_categorical\n",
        "\n",
        "(train_images, train_labels), (test_images, test_labels) = mnist.load_data()\n",
        "print(f\"train_images shape: {train_images.shape}\") \n",
        "print(f\"train_labels count: {len(train_labels)}\")\n",
        "print(f\"train_labels: {train_labels}\")\n",
        "\n",
        "network = models.Sequential()\n",
        "network.add(layers.Dense(512, activation='relu', input_shape=(28 * 28,))) \n",
        "network.add(layers.Dense(10, activation='softmax'))\n",
        "\n",
        "network.compile(optimizer='rmsprop',\n",
        "                loss='categorical_crossentropy', \n",
        "                metrics=['accuracy'])\n",
        "\n",
        "train_images = train_images.reshape((60000, 28 * 28)) \n",
        "train_images = train_images.astype('float32') / 255\n",
        "\n",
        "test_images = test_images.reshape((10000, 28 * 28)) \n",
        "test_images = test_images.astype('float32') / 255\n",
        "\n",
        "train_labels = to_categorical(train_labels) \n",
        "test_labels = to_categorical(test_labels)\n",
        "\n",
        "# Train the network\n",
        "network.fit(train_images, train_labels, epochs=5, batch_size=128)\n",
        "\n",
        "# Test the trained network\n",
        "test_loss, test_acc = network.evaluate(test_images, test_labels)\n",
        "print('test_acc:', test_acc) "
      ],
      "execution_count": 6,
      "outputs": [
        {
          "output_type": "stream",
          "text": [
            "train_images shape: (60000, 28, 28)\n",
            "train_labels count: 60000\n",
            "train_labels: [5 0 4 ... 5 6 8]\n",
            "Epoch 1/5\n",
            "60000/60000 [==============================] - 5s 79us/step - loss: 0.2563 - acc: 0.9247\n",
            "Epoch 2/5\n",
            "60000/60000 [==============================] - 5s 75us/step - loss: 0.1031 - acc: 0.9695\n",
            "Epoch 3/5\n",
            "60000/60000 [==============================] - 4s 75us/step - loss: 0.0681 - acc: 0.9796\n",
            "Epoch 4/5\n",
            "60000/60000 [==============================] - 5s 76us/step - loss: 0.0492 - acc: 0.9849\n",
            "Epoch 5/5\n",
            "60000/60000 [==============================] - 5s 76us/step - loss: 0.0372 - acc: 0.9886\n",
            "10000/10000 [==============================] - 1s 55us/step\n",
            "test_acc: 0.9774\n"
          ],
          "name": "stdout"
        }
      ]
    }
  ]
}